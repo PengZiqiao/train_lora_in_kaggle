{
 "cells": [
  {
   "cell_type": "code",
   "execution_count": 1,
   "id": "5d49453d",
   "metadata": {
    "_cell_guid": "b1076dfc-b9ad-4769-8c92-a6c4dae69d19",
    "_uuid": "8f2839f25d086af736a60e9eeb907d3b93b6e0e5",
    "execution": {
     "iopub.execute_input": "2023-02-26T13:23:14.213510Z",
     "iopub.status.busy": "2023-02-26T13:23:14.213142Z",
     "iopub.status.idle": "2023-02-26T13:24:07.793985Z",
     "shell.execute_reply": "2023-02-26T13:24:07.792108Z"
    },
    "papermill": {
     "duration": 53.587771,
     "end_time": "2023-02-26T13:24:07.797204",
     "exception": false,
     "start_time": "2023-02-26T13:23:14.209433",
     "status": "completed"
    },
    "tags": []
   },
   "outputs": [
    {
     "name": "stdout",
     "output_type": "stream",
     "text": [
      "Collecting triton\r\n",
      "  Downloading triton-1.1.1-cp37-cp37m-manylinux_2_17_x86_64.manylinux2014_x86_64.whl (18.2 MB)\r\n",
      "\u001b[2K     \u001b[90m━━━━━━━━━━━━━━━━━━━━━━━━━━━━━━━━━━━━━━━━\u001b[0m \u001b[32m18.2/18.2 MB\u001b[0m \u001b[31m15.7 MB/s\u001b[0m eta \u001b[36m0:00:00\u001b[0m\r\n",
      "\u001b[?25hRequirement already satisfied: tqdm in /opt/conda/lib/python3.7/site-packages (4.64.1)\r\n",
      "Requirement already satisfied: timm in /opt/conda/lib/python3.7/site-packages (0.6.12)\r\n",
      "Collecting fairscale\r\n",
      "  Downloading fairscale-0.4.6.tar.gz (248 kB)\r\n",
      "\u001b[2K     \u001b[90m━━━━━━━━━━━━━━━━━━━━━━━━━━━━━━━━━━━━━━\u001b[0m \u001b[32m248.2/248.2 kB\u001b[0m \u001b[31m10.6 MB/s\u001b[0m eta \u001b[36m0:00:00\u001b[0m\r\n",
      "\u001b[?25h  Installing build dependencies ... \u001b[?25l-\b \b\\\b \b|\b \b/\b \b-\b \b\\\b \bdone\r\n",
      "\u001b[?25h  Getting requirements to build wheel ... \u001b[?25ldone\r\n",
      "\u001b[?25h  Installing backend dependencies ... \u001b[?25l-\b \b\\\b \b|\b \b/\b \bdone\r\n",
      "\u001b[?25h  Preparing metadata (pyproject.toml) ... \u001b[?25l-\b \bdone\r\n",
      "\u001b[?25hRequirement already satisfied: transformers in /opt/conda/lib/python3.7/site-packages (4.26.1)\r\n",
      "Requirement already satisfied: accelerate in /opt/conda/lib/python3.7/site-packages (0.12.0)\r\n",
      "Collecting diffusers\r\n",
      "  Downloading diffusers-0.13.1-py3-none-any.whl (716 kB)\r\n",
      "\u001b[2K     \u001b[90m━━━━━━━━━━━━━━━━━━━━━━━━━━━━━━━━━━━━━━\u001b[0m \u001b[32m716.4/716.4 kB\u001b[0m \u001b[31m39.5 MB/s\u001b[0m eta \u001b[36m0:00:00\u001b[0m\r\n",
      "\u001b[?25hRequirement already satisfied: albumentations in /opt/conda/lib/python3.7/site-packages (1.3.0)\r\n",
      "Collecting einops\r\n",
      "  Downloading einops-0.6.0-py3-none-any.whl (41 kB)\r\n",
      "\u001b[2K     \u001b[90m━━━━━━━━━━━━━━━━━━━━━━━━━━━━━━━━━━━━━━━━\u001b[0m \u001b[32m41.6/41.6 kB\u001b[0m \u001b[31m3.8 MB/s\u001b[0m eta \u001b[36m0:00:00\u001b[0m\r\n",
      "\u001b[?25hCollecting safetensors\r\n",
      "  Downloading safetensors-0.2.8-cp37-cp37m-manylinux_2_17_x86_64.manylinux2014_x86_64.whl (1.2 MB)\r\n",
      "\u001b[2K     \u001b[90m━━━━━━━━━━━━━━━━━━━━━━━━━━━━━━━━━━━━━━━━\u001b[0m \u001b[32m1.2/1.2 MB\u001b[0m \u001b[31m48.2 MB/s\u001b[0m eta \u001b[36m0:00:00\u001b[0m\r\n",
      "\u001b[?25hRequirement already satisfied: filelock in /opt/conda/lib/python3.7/site-packages (from triton) (3.9.0)\r\n",
      "Requirement already satisfied: torch in /opt/conda/lib/python3.7/site-packages (from triton) (1.13.0)\r\n",
      "Requirement already satisfied: huggingface-hub in /opt/conda/lib/python3.7/site-packages (from timm) (0.12.1)\r\n",
      "Requirement already satisfied: torchvision in /opt/conda/lib/python3.7/site-packages (from timm) (0.14.0)\r\n",
      "Requirement already satisfied: pyyaml in /opt/conda/lib/python3.7/site-packages (from timm) (6.0)\r\n",
      "Requirement already satisfied: regex!=2019.12.17 in /opt/conda/lib/python3.7/site-packages (from transformers) (2021.11.10)\r\n",
      "Requirement already satisfied: importlib-metadata in /opt/conda/lib/python3.7/site-packages (from transformers) (4.11.4)\r\n",
      "Requirement already satisfied: requests in /opt/conda/lib/python3.7/site-packages (from transformers) (2.28.2)\r\n",
      "Requirement already satisfied: tokenizers!=0.11.3,<0.14,>=0.11.1 in /opt/conda/lib/python3.7/site-packages (from transformers) (0.13.2)\r\n",
      "Requirement already satisfied: packaging>=20.0 in /opt/conda/lib/python3.7/site-packages (from transformers) (23.0)\r\n",
      "Requirement already satisfied: numpy>=1.17 in /opt/conda/lib/python3.7/site-packages (from transformers) (1.21.6)\r\n",
      "Requirement already satisfied: psutil in /opt/conda/lib/python3.7/site-packages (from accelerate) (5.9.3)\r\n",
      "Requirement already satisfied: Pillow in /opt/conda/lib/python3.7/site-packages (from diffusers) (9.4.0)\r\n",
      "Requirement already satisfied: opencv-python-headless>=4.1.1 in /opt/conda/lib/python3.7/site-packages (from albumentations) (4.5.4.60)\r\n",
      "Requirement already satisfied: qudida>=0.0.4 in /opt/conda/lib/python3.7/site-packages (from albumentations) (0.0.4)\r\n",
      "Requirement already satisfied: scikit-image>=0.16.1 in /opt/conda/lib/python3.7/site-packages (from albumentations) (0.19.3)\r\n",
      "Requirement already satisfied: scipy in /opt/conda/lib/python3.7/site-packages (from albumentations) (1.7.3)\r\n",
      "Requirement already satisfied: typing-extensions>=3.7.4.3 in /opt/conda/lib/python3.7/site-packages (from huggingface-hub->timm) (4.4.0)\r\n",
      "Requirement already satisfied: scikit-learn>=0.19.1 in /opt/conda/lib/python3.7/site-packages (from qudida>=0.0.4->albumentations) (1.0.2)\r\n",
      "Requirement already satisfied: tifffile>=2019.7.26 in /opt/conda/lib/python3.7/site-packages (from scikit-image>=0.16.1->albumentations) (2021.11.2)\r\n",
      "Requirement already satisfied: imageio>=2.4.1 in /opt/conda/lib/python3.7/site-packages (from scikit-image>=0.16.1->albumentations) (2.25.0)\r\n",
      "Requirement already satisfied: PyWavelets>=1.1.1 in /opt/conda/lib/python3.7/site-packages (from scikit-image>=0.16.1->albumentations) (1.3.0)\r\n",
      "Requirement already satisfied: networkx>=2.2 in /opt/conda/lib/python3.7/site-packages (from scikit-image>=0.16.1->albumentations) (2.6.3)\r\n",
      "Requirement already satisfied: zipp>=0.5 in /opt/conda/lib/python3.7/site-packages (from importlib-metadata->transformers) (3.11.0)\r\n",
      "Requirement already satisfied: charset-normalizer<4,>=2 in /opt/conda/lib/python3.7/site-packages (from requests->transformers) (2.1.1)\r\n",
      "Requirement already satisfied: idna<4,>=2.5 in /opt/conda/lib/python3.7/site-packages (from requests->transformers) (3.4)\r\n",
      "Requirement already satisfied: urllib3<1.27,>=1.21.1 in /opt/conda/lib/python3.7/site-packages (from requests->transformers) (1.26.14)\r\n",
      "Requirement already satisfied: certifi>=2017.4.17 in /opt/conda/lib/python3.7/site-packages (from requests->transformers) (2022.12.7)\r\n",
      "Requirement already satisfied: threadpoolctl>=2.0.0 in /opt/conda/lib/python3.7/site-packages (from scikit-learn>=0.19.1->qudida>=0.0.4->albumentations) (3.1.0)\r\n",
      "Requirement already satisfied: joblib>=0.11 in /opt/conda/lib/python3.7/site-packages (from scikit-learn>=0.19.1->qudida>=0.0.4->albumentations) (1.2.0)\r\n",
      "Building wheels for collected packages: fairscale\r\n",
      "  Building wheel for fairscale (pyproject.toml) ... \u001b[?25l-\b \b\\\b \bdone\r\n",
      "\u001b[?25h  Created wheel for fairscale: filename=fairscale-0.4.6-py3-none-any.whl size=307224 sha256=db1e75495d5c9a9b8ce82d9d00ff9f06e29fe5310316a8bd3c9fe81f61f777aa\r\n",
      "  Stored in directory: /root/.cache/pip/wheels/0b/8c/fa/a9e102632bcb86e919561cf25ca1e0dd2ec67476f3a5544653\r\n",
      "Successfully built fairscale\r\n",
      "Installing collected packages: safetensors, einops, triton, fairscale, diffusers\r\n",
      "Successfully installed diffusers-0.13.1 einops-0.6.0 fairscale-0.4.6 safetensors-0.2.8 triton-1.1.1\r\n",
      "\u001b[33mWARNING: Running pip as the 'root' user can result in broken permissions and conflicting behaviour with the system package manager. It is recommended to use a virtual environment instead: https://pip.pypa.io/warnings/venv\u001b[0m\u001b[33m\r\n",
      "\u001b[0mCollecting bitsandbytes==0.35.0\r\n",
      "  Downloading bitsandbytes-0.35.0-py3-none-any.whl (62.5 MB)\r\n",
      "\u001b[2K     \u001b[90m━━━━━━━━━━━━━━━━━━━━━━━━━━━━━━━━━━━━━━━━\u001b[0m \u001b[32m62.5/62.5 MB\u001b[0m \u001b[31m15.6 MB/s\u001b[0m eta \u001b[36m0:00:00\u001b[0m\r\n",
      "\u001b[?25hInstalling collected packages: bitsandbytes\r\n",
      "Successfully installed bitsandbytes-0.35.0\r\n",
      "\u001b[33mWARNING: Running pip as the 'root' user can result in broken permissions and conflicting behaviour with the system package manager. It is recommended to use a virtual environment instead: https://pip.pypa.io/warnings/venv\u001b[0m\u001b[33m\r\n",
      "\u001b[0mCloning into 'sd-scripts'...\r\n",
      "remote: Enumerating objects: 1233, done.\u001b[K\r\n",
      "remote: Counting objects: 100% (246/246), done.\u001b[K\r\n",
      "remote: Compressing objects: 100% (118/118), done.\u001b[K\r\n",
      "remote: Total 1233 (delta 159), reused 193 (delta 128), pack-reused 987\u001b[K\r\n",
      "Receiving objects: 100% (1233/1233), 2.56 MiB | 7.83 MiB/s, done.\r\n",
      "Resolving deltas: 100% (767/767), done.\r\n",
      "/kaggle/working/sd-scripts\n"
     ]
    }
   ],
   "source": [
    "# 配置环境依赖\n",
    "ROOT = '/kaggle/working'\n",
    "\n",
    "!pip install triton tqdm timm fairscale transformers accelerate diffusers albumentations einops safetensors\n",
    "!pip install bitsandbytes==0.35.0\n",
    "\n",
    "!git clone https://github.com/kohya-ss/sd-scripts.git\n",
    "\n",
    "!cp -r /kaggle/input/train-images/image/100_Neilina {ROOT}/image\n",
    "!ln -s /kaggle/input/chilloutmix-safetensors-models/chilloutmix-Ni-pruned-fp16.safetensors\n",
    "\n",
    "%cd {ROOT}/sd-scripts"
   ]
  },
  {
   "cell_type": "code",
   "execution_count": 2,
   "id": "c593e738",
   "metadata": {
    "execution": {
     "iopub.execute_input": "2023-02-26T13:24:07.816311Z",
     "iopub.status.busy": "2023-02-26T13:24:07.815993Z",
     "iopub.status.idle": "2023-02-26T13:24:58.528800Z",
     "shell.execute_reply": "2023-02-26T13:24:58.527476Z"
    },
    "papermill": {
     "duration": 50.725563,
     "end_time": "2023-02-26T13:24:58.531891",
     "exception": false,
     "start_time": "2023-02-26T13:24:07.806328",
     "status": "completed"
    },
    "tags": []
   },
   "outputs": [
    {
     "name": "stdout",
     "output_type": "stream",
     "text": [
      "Current Working Directory is:  /kaggle/working/sd-scripts\r\n",
      "load images from /kaggle/working/100_Neilina\r\n",
      "found 0 images.\r\n",
      "loading BLIP caption: https://storage.googleapis.com/sfr-vision-language-research/BLIP/models/model_large_caption.pth\r\n",
      "Downloading (…)solve/main/vocab.txt: 100%|████| 232k/232k [00:00<00:00, 940kB/s]\r\n",
      "Downloading (…)okenizer_config.json: 100%|███| 28.0/28.0 [00:00<00:00, 3.54kB/s]\r\n",
      "Downloading (…)lve/main/config.json: 100%|██████| 570/570 [00:00<00:00, 228kB/s]\r\n",
      "100%|███████████████████████████████████████| 1.66G/1.66G [00:09<00:00, 194MB/s]\r\n",
      "load checkpoint from https://storage.googleapis.com/sfr-vision-language-research/BLIP/models/model_large_caption.pth\r\n",
      "BLIP loaded\r\n",
      "0it [00:00, ?it/s]\r\n",
      "done!\r\n"
     ]
    }
   ],
   "source": [
    "# 将sd-scripts/library作为库复制到python的site-packages中，供调用\n",
    "!touch '{ROOT}/sd-scripts/library/__init__.py'\n",
    "!ln -s '{ROOT}/sd-scripts/library/' '/opt/conda/lib/python3.7/site-packages/library'\n",
    "\n",
    "# 打标    \n",
    "!python './finetune/make_captions.py' \\\n",
    "        '{ROOT}/100_Neilina' \\\n",
    "        --batch_size 8"
   ]
  },
  {
   "cell_type": "code",
   "execution_count": 3,
   "id": "9ba56c6b",
   "metadata": {
    "execution": {
     "iopub.execute_input": "2023-02-26T13:24:58.562934Z",
     "iopub.status.busy": "2023-02-26T13:24:58.562574Z",
     "iopub.status.idle": "2023-02-26T13:24:58.569188Z",
     "shell.execute_reply": "2023-02-26T13:24:58.568040Z"
    },
    "papermill": {
     "duration": 0.024786,
     "end_time": "2023-02-26T13:24:58.571462",
     "exception": false,
     "start_time": "2023-02-26T13:24:58.546676",
     "status": "completed"
    },
    "tags": []
   },
   "outputs": [],
   "source": [
    "# 训练参数\n",
    "MODEL_PATH = f\"{ROOT}/chilloutmix-Ni-pruned-fp16.safetensors\" # checkpoint 路径\n",
    "TRAIN_DATA_DIR = f\"{ROOT}/image\" # 训练数据集路径\n",
    "OUTPUT_DIR = f\"{ROOT}/output\" # 输出模型路径\n",
    "OUTPUT_NAME = \"neilina\" # 输出模型名称\n",
    "\n",
    "RESOLUTION = \"512,512\" # image resolution w,h. 图片分辨率，宽,高。支持非正方形，但必须是 64 倍数。\n",
    "LR = \"1e-4\" # learning rate 学习率\n",
    "MAX_TRAIN_EPOCHS =10 # 最大训练 epoch\n",
    "SAVE_EVERY_N_EPOCHS = 4 # 每 N 个 epoch 保存一次\n",
    "NETWORK_DIM = 32 # 常用 4~128，不是越大越好\n",
    "NEWORK_ALPHA= 32 # 常用与 network_dim 相同的值或者采用较小的值，如 network_dim的一半 防止下溢。默认值为 1，使用较小的 alpha 需要提升学习率。"
   ]
  },
  {
   "cell_type": "code",
   "execution_count": 4,
   "id": "5de65ba9",
   "metadata": {
    "execution": {
     "iopub.execute_input": "2023-02-26T13:24:58.599752Z",
     "iopub.status.busy": "2023-02-26T13:24:58.599466Z",
     "iopub.status.idle": "2023-02-26T13:25:11.750197Z",
     "shell.execute_reply": "2023-02-26T13:25:11.748928Z"
    },
    "papermill": {
     "duration": 13.167746,
     "end_time": "2023-02-26T13:25:11.752851",
     "exception": false,
     "start_time": "2023-02-26T13:24:58.585105",
     "status": "completed"
    },
    "tags": []
   },
   "outputs": [
    {
     "name": "stdout",
     "output_type": "stream",
     "text": [
      "prepare tokenizer\r\n",
      "Downloading (…)olve/main/vocab.json: 100%|███| 961k/961k [00:00<00:00, 2.59MB/s]\r\n",
      "Downloading (…)olve/main/merges.txt: 100%|███| 525k/525k [00:00<00:00, 1.69MB/s]\r\n",
      "Downloading (…)cial_tokens_map.json: 100%|██████| 389/389 [00:00<00:00, 137kB/s]\r\n",
      "Downloading (…)okenizer_config.json: 100%|██████| 905/905 [00:00<00:00, 332kB/s]\r\n",
      "Use DreamBooth method.\r\n",
      "prepare train images.\r\n",
      "0 train images with repeating.\r\n",
      "loading image sizes.\r\n",
      "0it [00:00, ?it/s]\r\n",
      "prepare dataset\r\n",
      "No data found. Please verify arguments (train_data_dir must be the parent of folders with images) / 画像がありません。引数指定を確認してください（train_data_dirには画像があるフォルダではなく、画像があるフォルダの親フォルダを指定する必要があります）\r\n"
     ]
    }
   ],
   "source": [
    "# 训练\n",
    "!python train_network.py \\\n",
    "  --network_dim={NETWORK_DIM} \\\n",
    "  --network_alpha={NEWORK_ALPHA} \\\n",
    "  --pretrained_model_name_or_path={MODEL_PATH} \\\n",
    "  --train_data_dir={TRAIN_DATA_DIR} \\\n",
    "  --output_dir={OUTPUT_DIR} \\\n",
    "  --output_name={OUTPUT_NAME} \\\n",
    "  --resolution={RESOLUTION} \\\n",
    "  --learning_rate={LR} \\\n",
    "  --max_train_epochs={MAX_TRAIN_EPOCHS} \\\n",
    "  --save_every_n_epochs={SAVE_EVERY_N_EPOCHS} \\\n",
    "  --train_batch_size=1 \\\n",
    "  --mixed_precision=fp16 \\\n",
    "  --save_precision=fp16 \\\n",
    "  --seed=42 \\\n",
    "  --clip_skip=2 \\\n",
    "  --prior_loss_weight=1 \\\n",
    "  --network_module=networks.lora \\\n",
    "  --shuffle_caption"
   ]
  }
 ],
 "metadata": {
  "kernelspec": {
   "display_name": "Python 3",
   "language": "python",
   "name": "python3"
  },
  "language_info": {
   "codemirror_mode": {
    "name": "ipython",
    "version": 3
   },
   "file_extension": ".py",
   "mimetype": "text/x-python",
   "name": "python",
   "nbconvert_exporter": "python",
   "pygments_lexer": "ipython3",
   "version": "3.7.12"
  },
  "papermill": {
   "default_parameters": {},
   "duration": 127.440547,
   "end_time": "2023-02-26T13:25:12.288449",
   "environment_variables": {},
   "exception": null,
   "input_path": "__notebook__.ipynb",
   "output_path": "__notebook__.ipynb",
   "parameters": {},
   "start_time": "2023-02-26T13:23:04.847902",
   "version": "2.4.0"
  }
 },
 "nbformat": 4,
 "nbformat_minor": 5
}
